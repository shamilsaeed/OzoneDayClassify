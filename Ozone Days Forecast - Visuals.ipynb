{
 "cells": [
  {
   "cell_type": "code",
   "execution_count": 2,
   "metadata": {},
   "outputs": [],
   "source": [
    "import pandas as pd\n",
    "import numpy as np\n",
    "import seaborn as sns\n",
    "import matplotlib.pyplot as plt\n",
    "import os"
   ]
  },
  {
   "cell_type": "code",
   "execution_count": 4,
   "metadata": {},
   "outputs": [],
   "source": [
    "#read data\n",
    "path = os.path.join('C:' + os.sep,'Users'+ os.sep,'shami'+ os.sep,'OneDrive'+ os.sep,'Documents' + os.sep,'3253 - Machine Learning Project Files' + os.sep,'All Data With Dates.csv')\n",
    "#df = pd.read_csv(\"C:\\\\Users\\\\shami\\\\OneDrive\\\\Documents\\\\3253 - Machine Learning Project Files\\\\All Data With Dates.csv\")\n",
    "df = pd.read_csv(path)"
   ]
  },
  {
   "cell_type": "markdown",
   "metadata": {},
   "source": [
    "## Explanation of Columns\n",
    "\n",
    "\n",
    "WSR0-WSR23: Resultant Wind Speed hourly measurements<br>\n",
    "T0-T23: Temperature hourly measurements<br>\n",
    "WSR_PK: continuous. peek wind speed -- resultant (meaning average of wind vector)<br>\n",
    "WSR_AV: continuous. average wind speed<br>\n",
    "T_PK: continuous. Peak T<br>\n",
    "T_AV: continuous. Average T<br>\n",
    "T85: continuous. T at 850 hpa level (or about 1500 m height)<br>\n",
    "RH85: continuous. Relative Humidity at 850 hpa<br>\n",
    "U85: continuous. (U wind - east-west direction wind at 850 hpa)<br>\n",
    "V85: continuous. V wind - N-S direction wind at 850<br>\n",
    "HT85: continuous. Geopotential height at 850 hpa, it is about the same as height at low altitude<br>\n",
    "T70: continuous. T at 700 hpa level (roughly 3100 m height)<br>\n",
    "<br>\n",
    "RH70: continuous.<br>\n",
    "U70: continuous.<br>\n",
    "V70: continuous.<br>\n",
    "HT70: continuous.<br>\n",
    "\n",
    "T50: continuous. T at 500 hpa level (roughly at 5500 m height)<br>\n",
    "\n",
    "RH50: continuous.<br>\n",
    "U50: continuous.<br>\n",
    "V50: continuous.<br>\n",
    "HT50: continuous.<br>\n",
    "\n",
    "KI: continuous. K-Index [Web Link]<br>\n",
    "TT: continuous. T-Totals [Web Link]<br>\n",
    "SLP: continuous. Sea level pressure<br>\n",
    "SLP_: continuous. SLP change from previous day<br>\n",
    "\n",
    "Precp: continuous. -- precipitation"
   ]
  },
  {
   "cell_type": "code",
   "execution_count": 5,
   "metadata": {},
   "outputs": [
    {
     "data": {
      "text/html": [
       "<div>\n",
       "<style scoped>\n",
       "    .dataframe tbody tr th:only-of-type {\n",
       "        vertical-align: middle;\n",
       "    }\n",
       "\n",
       "    .dataframe tbody tr th {\n",
       "        vertical-align: top;\n",
       "    }\n",
       "\n",
       "    .dataframe thead th {\n",
       "        text-align: right;\n",
       "    }\n",
       "</style>\n",
       "<table border=\"1\" class=\"dataframe\">\n",
       "  <thead>\n",
       "    <tr style=\"text-align: right;\">\n",
       "      <th></th>\n",
       "      <th>Date</th>\n",
       "      <th>WSR0</th>\n",
       "      <th>WSR1</th>\n",
       "      <th>WSR2</th>\n",
       "      <th>WSR3</th>\n",
       "      <th>WSR4</th>\n",
       "      <th>WSR5</th>\n",
       "      <th>WSR6</th>\n",
       "      <th>WSR7</th>\n",
       "      <th>WSR8</th>\n",
       "      <th>...</th>\n",
       "      <th>RH50</th>\n",
       "      <th>U50</th>\n",
       "      <th>V50</th>\n",
       "      <th>HT50</th>\n",
       "      <th>KI</th>\n",
       "      <th>TT</th>\n",
       "      <th>SLP</th>\n",
       "      <th>SLP_</th>\n",
       "      <th>Precp</th>\n",
       "      <th>Class</th>\n",
       "    </tr>\n",
       "  </thead>\n",
       "  <tbody>\n",
       "    <tr>\n",
       "      <th>0</th>\n",
       "      <td>1/1/1998</td>\n",
       "      <td>0.8</td>\n",
       "      <td>1.8</td>\n",
       "      <td>2.4</td>\n",
       "      <td>2.1</td>\n",
       "      <td>2.0</td>\n",
       "      <td>2.1</td>\n",
       "      <td>1.5</td>\n",
       "      <td>1.7</td>\n",
       "      <td>1.9</td>\n",
       "      <td>...</td>\n",
       "      <td>0.150000</td>\n",
       "      <td>10.670000</td>\n",
       "      <td>-1.560000</td>\n",
       "      <td>5795.000000</td>\n",
       "      <td>-12.100000</td>\n",
       "      <td>17.900000</td>\n",
       "      <td>10330.00000</td>\n",
       "      <td>-55.000000</td>\n",
       "      <td>0.00</td>\n",
       "      <td>1</td>\n",
       "    </tr>\n",
       "    <tr>\n",
       "      <th>1</th>\n",
       "      <td>1/2/1998</td>\n",
       "      <td>2.8</td>\n",
       "      <td>3.2</td>\n",
       "      <td>3.3</td>\n",
       "      <td>2.7</td>\n",
       "      <td>3.3</td>\n",
       "      <td>3.2</td>\n",
       "      <td>2.9</td>\n",
       "      <td>2.8</td>\n",
       "      <td>3.1</td>\n",
       "      <td>...</td>\n",
       "      <td>0.480000</td>\n",
       "      <td>8.390000</td>\n",
       "      <td>3.840000</td>\n",
       "      <td>5805.000000</td>\n",
       "      <td>14.050000</td>\n",
       "      <td>29.000000</td>\n",
       "      <td>10275.00000</td>\n",
       "      <td>-55.000000</td>\n",
       "      <td>0.00</td>\n",
       "      <td>1</td>\n",
       "    </tr>\n",
       "    <tr>\n",
       "      <th>2</th>\n",
       "      <td>1/3/1998</td>\n",
       "      <td>2.9</td>\n",
       "      <td>2.8</td>\n",
       "      <td>2.6</td>\n",
       "      <td>2.1</td>\n",
       "      <td>2.2</td>\n",
       "      <td>2.5</td>\n",
       "      <td>2.5</td>\n",
       "      <td>2.7</td>\n",
       "      <td>2.2</td>\n",
       "      <td>...</td>\n",
       "      <td>0.600000</td>\n",
       "      <td>6.940000</td>\n",
       "      <td>9.800000</td>\n",
       "      <td>5790.000000</td>\n",
       "      <td>17.900000</td>\n",
       "      <td>41.300000</td>\n",
       "      <td>10235.00000</td>\n",
       "      <td>-40.000000</td>\n",
       "      <td>0.00</td>\n",
       "      <td>1</td>\n",
       "    </tr>\n",
       "    <tr>\n",
       "      <th>3</th>\n",
       "      <td>1/4/1998</td>\n",
       "      <td>4.7</td>\n",
       "      <td>3.8</td>\n",
       "      <td>3.7</td>\n",
       "      <td>3.8</td>\n",
       "      <td>2.9</td>\n",
       "      <td>3.1</td>\n",
       "      <td>2.8</td>\n",
       "      <td>2.5</td>\n",
       "      <td>2.4</td>\n",
       "      <td>...</td>\n",
       "      <td>0.490000</td>\n",
       "      <td>8.730000</td>\n",
       "      <td>10.540000</td>\n",
       "      <td>5775.000000</td>\n",
       "      <td>31.150000</td>\n",
       "      <td>51.700000</td>\n",
       "      <td>10195.00000</td>\n",
       "      <td>-40.000000</td>\n",
       "      <td>2.08</td>\n",
       "      <td>1</td>\n",
       "    </tr>\n",
       "    <tr>\n",
       "      <th>4</th>\n",
       "      <td>1/5/1998</td>\n",
       "      <td>2.6</td>\n",
       "      <td>2.1</td>\n",
       "      <td>1.6</td>\n",
       "      <td>1.4</td>\n",
       "      <td>0.9</td>\n",
       "      <td>1.5</td>\n",
       "      <td>1.2</td>\n",
       "      <td>1.4</td>\n",
       "      <td>1.3</td>\n",
       "      <td>...</td>\n",
       "      <td>0.304716</td>\n",
       "      <td>9.872418</td>\n",
       "      <td>0.830116</td>\n",
       "      <td>5818.821222</td>\n",
       "      <td>10.511051</td>\n",
       "      <td>37.388335</td>\n",
       "      <td>10164.19844</td>\n",
       "      <td>-0.119949</td>\n",
       "      <td>0.58</td>\n",
       "      <td>1</td>\n",
       "    </tr>\n",
       "  </tbody>\n",
       "</table>\n",
       "<p>5 rows × 74 columns</p>\n",
       "</div>"
      ],
      "text/plain": [
       "       Date  WSR0  WSR1  WSR2  WSR3  WSR4  WSR5  WSR6  WSR7  WSR8  ...  \\\n",
       "0  1/1/1998   0.8   1.8   2.4   2.1   2.0   2.1   1.5   1.7   1.9  ...   \n",
       "1  1/2/1998   2.8   3.2   3.3   2.7   3.3   3.2   2.9   2.8   3.1  ...   \n",
       "2  1/3/1998   2.9   2.8   2.6   2.1   2.2   2.5   2.5   2.7   2.2  ...   \n",
       "3  1/4/1998   4.7   3.8   3.7   3.8   2.9   3.1   2.8   2.5   2.4  ...   \n",
       "4  1/5/1998   2.6   2.1   1.6   1.4   0.9   1.5   1.2   1.4   1.3  ...   \n",
       "\n",
       "       RH50        U50        V50         HT50         KI         TT  \\\n",
       "0  0.150000  10.670000  -1.560000  5795.000000 -12.100000  17.900000   \n",
       "1  0.480000   8.390000   3.840000  5805.000000  14.050000  29.000000   \n",
       "2  0.600000   6.940000   9.800000  5790.000000  17.900000  41.300000   \n",
       "3  0.490000   8.730000  10.540000  5775.000000  31.150000  51.700000   \n",
       "4  0.304716   9.872418   0.830116  5818.821222  10.511051  37.388335   \n",
       "\n",
       "           SLP       SLP_  Precp  Class  \n",
       "0  10330.00000 -55.000000   0.00      1  \n",
       "1  10275.00000 -55.000000   0.00      1  \n",
       "2  10235.00000 -40.000000   0.00      1  \n",
       "3  10195.00000 -40.000000   2.08      1  \n",
       "4  10164.19844  -0.119949   0.58      1  \n",
       "\n",
       "[5 rows x 74 columns]"
      ]
     },
     "execution_count": 5,
     "metadata": {},
     "output_type": "execute_result"
    }
   ],
   "source": [
    "df.head()"
   ]
  },
  {
   "cell_type": "code",
   "execution_count": 4,
   "metadata": {},
   "outputs": [
    {
     "data": {
      "text/plain": [
       "Date      object\n",
       "WSR0     float64\n",
       "WSR1     float64\n",
       "WSR2     float64\n",
       "WSR3     float64\n",
       "          ...   \n",
       "TT       float64\n",
       "SLP      float64\n",
       "SLP_     float64\n",
       "Precp    float64\n",
       "Class      int64\n",
       "Length: 74, dtype: object"
      ]
     },
     "execution_count": 4,
     "metadata": {},
     "output_type": "execute_result"
    }
   ],
   "source": [
    "df.dtypes"
   ]
  },
  {
   "cell_type": "code",
   "execution_count": 5,
   "metadata": {},
   "outputs": [
    {
     "data": {
      "text/plain": [
       "Date     0\n",
       "WSR0     0\n",
       "WSR1     0\n",
       "WSR2     0\n",
       "WSR3     0\n",
       "        ..\n",
       "TT       0\n",
       "SLP      0\n",
       "SLP_     0\n",
       "Precp    0\n",
       "Class    0\n",
       "Length: 74, dtype: int64"
      ]
     },
     "execution_count": 5,
     "metadata": {},
     "output_type": "execute_result"
    }
   ],
   "source": [
    "#check for missing values \n",
    "missing_vals = df.isnull().sum() \n",
    "missing_vals"
   ]
  },
  {
   "cell_type": "code",
   "execution_count": 6,
   "metadata": {},
   "outputs": [
    {
     "data": {
      "text/html": [
       "<div>\n",
       "<style scoped>\n",
       "    .dataframe tbody tr th:only-of-type {\n",
       "        vertical-align: middle;\n",
       "    }\n",
       "\n",
       "    .dataframe tbody tr th {\n",
       "        vertical-align: top;\n",
       "    }\n",
       "\n",
       "    .dataframe thead th {\n",
       "        text-align: right;\n",
       "    }\n",
       "</style>\n",
       "<table border=\"1\" class=\"dataframe\">\n",
       "  <thead>\n",
       "    <tr style=\"text-align: right;\">\n",
       "      <th></th>\n",
       "      <th>WSR0</th>\n",
       "      <th>WSR1</th>\n",
       "      <th>WSR2</th>\n",
       "      <th>WSR3</th>\n",
       "      <th>WSR4</th>\n",
       "      <th>WSR5</th>\n",
       "      <th>WSR6</th>\n",
       "      <th>WSR7</th>\n",
       "      <th>WSR8</th>\n",
       "      <th>WSR9</th>\n",
       "      <th>...</th>\n",
       "      <th>RH50</th>\n",
       "      <th>U50</th>\n",
       "      <th>V50</th>\n",
       "      <th>HT50</th>\n",
       "      <th>KI</th>\n",
       "      <th>TT</th>\n",
       "      <th>SLP</th>\n",
       "      <th>SLP_</th>\n",
       "      <th>Precp</th>\n",
       "      <th>Class</th>\n",
       "    </tr>\n",
       "  </thead>\n",
       "  <tbody>\n",
       "    <tr>\n",
       "      <th>count</th>\n",
       "      <td>2534.000000</td>\n",
       "      <td>2534.000000</td>\n",
       "      <td>2534.000000</td>\n",
       "      <td>2534.000000</td>\n",
       "      <td>2534.000000</td>\n",
       "      <td>2534.000000</td>\n",
       "      <td>2534.000000</td>\n",
       "      <td>2534.000000</td>\n",
       "      <td>2534.000000</td>\n",
       "      <td>2534.000000</td>\n",
       "      <td>...</td>\n",
       "      <td>2534.000000</td>\n",
       "      <td>2534.000000</td>\n",
       "      <td>2534.000000</td>\n",
       "      <td>2534.000000</td>\n",
       "      <td>2534.000000</td>\n",
       "      <td>2534.000000</td>\n",
       "      <td>2534.000000</td>\n",
       "      <td>2534.000000</td>\n",
       "      <td>2534.000000</td>\n",
       "      <td>2534.000000</td>\n",
       "    </tr>\n",
       "    <tr>\n",
       "      <th>mean</th>\n",
       "      <td>1.640179</td>\n",
       "      <td>1.586351</td>\n",
       "      <td>1.545580</td>\n",
       "      <td>1.526405</td>\n",
       "      <td>1.522624</td>\n",
       "      <td>1.542417</td>\n",
       "      <td>1.637896</td>\n",
       "      <td>2.047127</td>\n",
       "      <td>2.539037</td>\n",
       "      <td>2.847708</td>\n",
       "      <td>...</td>\n",
       "      <td>0.304716</td>\n",
       "      <td>9.872418</td>\n",
       "      <td>0.830116</td>\n",
       "      <td>5818.821222</td>\n",
       "      <td>10.511051</td>\n",
       "      <td>37.388335</td>\n",
       "      <td>10164.198442</td>\n",
       "      <td>-0.119949</td>\n",
       "      <td>0.372026</td>\n",
       "      <td>1.063141</td>\n",
       "    </tr>\n",
       "    <tr>\n",
       "      <th>std</th>\n",
       "      <td>1.194568</td>\n",
       "      <td>1.191320</td>\n",
       "      <td>1.165651</td>\n",
       "      <td>1.133908</td>\n",
       "      <td>1.127523</td>\n",
       "      <td>1.102557</td>\n",
       "      <td>1.092811</td>\n",
       "      <td>1.092315</td>\n",
       "      <td>1.115448</td>\n",
       "      <td>1.150067</td>\n",
       "      <td>...</td>\n",
       "      <td>0.242858</td>\n",
       "      <td>9.127381</td>\n",
       "      <td>7.043762</td>\n",
       "      <td>77.410110</td>\n",
       "      <td>20.154266</td>\n",
       "      <td>10.949074</td>\n",
       "      <td>51.428116</td>\n",
       "      <td>34.693349</td>\n",
       "      <td>1.317438</td>\n",
       "      <td>0.243265</td>\n",
       "    </tr>\n",
       "    <tr>\n",
       "      <th>min</th>\n",
       "      <td>0.000000</td>\n",
       "      <td>0.000000</td>\n",
       "      <td>0.000000</td>\n",
       "      <td>0.000000</td>\n",
       "      <td>0.000000</td>\n",
       "      <td>0.000000</td>\n",
       "      <td>0.000000</td>\n",
       "      <td>0.000000</td>\n",
       "      <td>0.100000</td>\n",
       "      <td>0.100000</td>\n",
       "      <td>...</td>\n",
       "      <td>0.010000</td>\n",
       "      <td>-14.920000</td>\n",
       "      <td>-25.990000</td>\n",
       "      <td>5480.000000</td>\n",
       "      <td>-56.700000</td>\n",
       "      <td>-10.100000</td>\n",
       "      <td>9975.000000</td>\n",
       "      <td>-135.000000</td>\n",
       "      <td>0.000000</td>\n",
       "      <td>1.000000</td>\n",
       "    </tr>\n",
       "    <tr>\n",
       "      <th>25%</th>\n",
       "      <td>0.800000</td>\n",
       "      <td>0.700000</td>\n",
       "      <td>0.700000</td>\n",
       "      <td>0.700000</td>\n",
       "      <td>0.700000</td>\n",
       "      <td>0.700000</td>\n",
       "      <td>0.800000</td>\n",
       "      <td>1.300000</td>\n",
       "      <td>1.800000</td>\n",
       "      <td>2.100000</td>\n",
       "      <td>...</td>\n",
       "      <td>0.100000</td>\n",
       "      <td>3.130000</td>\n",
       "      <td>-3.340000</td>\n",
       "      <td>5771.250000</td>\n",
       "      <td>-2.437500</td>\n",
       "      <td>33.200000</td>\n",
       "      <td>10130.000000</td>\n",
       "      <td>-20.000000</td>\n",
       "      <td>0.000000</td>\n",
       "      <td>1.000000</td>\n",
       "    </tr>\n",
       "    <tr>\n",
       "      <th>50%</th>\n",
       "      <td>1.600000</td>\n",
       "      <td>1.500000</td>\n",
       "      <td>1.400000</td>\n",
       "      <td>1.400000</td>\n",
       "      <td>1.400000</td>\n",
       "      <td>1.400000</td>\n",
       "      <td>1.600000</td>\n",
       "      <td>2.047127</td>\n",
       "      <td>2.539037</td>\n",
       "      <td>2.847708</td>\n",
       "      <td>...</td>\n",
       "      <td>0.250000</td>\n",
       "      <td>9.872418</td>\n",
       "      <td>0.830116</td>\n",
       "      <td>5825.000000</td>\n",
       "      <td>13.000000</td>\n",
       "      <td>40.500000</td>\n",
       "      <td>10160.000000</td>\n",
       "      <td>-0.119949</td>\n",
       "      <td>0.000000</td>\n",
       "      <td>1.000000</td>\n",
       "    </tr>\n",
       "    <tr>\n",
       "      <th>75%</th>\n",
       "      <td>2.200000</td>\n",
       "      <td>2.100000</td>\n",
       "      <td>2.100000</td>\n",
       "      <td>2.075000</td>\n",
       "      <td>2.000000</td>\n",
       "      <td>2.000000</td>\n",
       "      <td>2.100000</td>\n",
       "      <td>2.600000</td>\n",
       "      <td>3.200000</td>\n",
       "      <td>3.500000</td>\n",
       "      <td>...</td>\n",
       "      <td>0.460000</td>\n",
       "      <td>16.097500</td>\n",
       "      <td>4.380000</td>\n",
       "      <td>5880.000000</td>\n",
       "      <td>27.737500</td>\n",
       "      <td>44.950000</td>\n",
       "      <td>10190.000000</td>\n",
       "      <td>15.000000</td>\n",
       "      <td>0.050000</td>\n",
       "      <td>1.000000</td>\n",
       "    </tr>\n",
       "    <tr>\n",
       "      <th>max</th>\n",
       "      <td>7.500000</td>\n",
       "      <td>7.700000</td>\n",
       "      <td>7.100000</td>\n",
       "      <td>7.300000</td>\n",
       "      <td>7.200000</td>\n",
       "      <td>7.400000</td>\n",
       "      <td>7.400000</td>\n",
       "      <td>7.500000</td>\n",
       "      <td>9.200000</td>\n",
       "      <td>8.500000</td>\n",
       "      <td>...</td>\n",
       "      <td>1.000000</td>\n",
       "      <td>42.360000</td>\n",
       "      <td>30.420000</td>\n",
       "      <td>5965.000000</td>\n",
       "      <td>42.050000</td>\n",
       "      <td>59.150000</td>\n",
       "      <td>10350.000000</td>\n",
       "      <td>140.000000</td>\n",
       "      <td>20.650000</td>\n",
       "      <td>2.000000</td>\n",
       "    </tr>\n",
       "  </tbody>\n",
       "</table>\n",
       "<p>8 rows × 73 columns</p>\n",
       "</div>"
      ],
      "text/plain": [
       "              WSR0         WSR1         WSR2         WSR3         WSR4  \\\n",
       "count  2534.000000  2534.000000  2534.000000  2534.000000  2534.000000   \n",
       "mean      1.640179     1.586351     1.545580     1.526405     1.522624   \n",
       "std       1.194568     1.191320     1.165651     1.133908     1.127523   \n",
       "min       0.000000     0.000000     0.000000     0.000000     0.000000   \n",
       "25%       0.800000     0.700000     0.700000     0.700000     0.700000   \n",
       "50%       1.600000     1.500000     1.400000     1.400000     1.400000   \n",
       "75%       2.200000     2.100000     2.100000     2.075000     2.000000   \n",
       "max       7.500000     7.700000     7.100000     7.300000     7.200000   \n",
       "\n",
       "              WSR5         WSR6         WSR7         WSR8         WSR9  ...  \\\n",
       "count  2534.000000  2534.000000  2534.000000  2534.000000  2534.000000  ...   \n",
       "mean      1.542417     1.637896     2.047127     2.539037     2.847708  ...   \n",
       "std       1.102557     1.092811     1.092315     1.115448     1.150067  ...   \n",
       "min       0.000000     0.000000     0.000000     0.100000     0.100000  ...   \n",
       "25%       0.700000     0.800000     1.300000     1.800000     2.100000  ...   \n",
       "50%       1.400000     1.600000     2.047127     2.539037     2.847708  ...   \n",
       "75%       2.000000     2.100000     2.600000     3.200000     3.500000  ...   \n",
       "max       7.400000     7.400000     7.500000     9.200000     8.500000  ...   \n",
       "\n",
       "              RH50          U50          V50         HT50           KI  \\\n",
       "count  2534.000000  2534.000000  2534.000000  2534.000000  2534.000000   \n",
       "mean      0.304716     9.872418     0.830116  5818.821222    10.511051   \n",
       "std       0.242858     9.127381     7.043762    77.410110    20.154266   \n",
       "min       0.010000   -14.920000   -25.990000  5480.000000   -56.700000   \n",
       "25%       0.100000     3.130000    -3.340000  5771.250000    -2.437500   \n",
       "50%       0.250000     9.872418     0.830116  5825.000000    13.000000   \n",
       "75%       0.460000    16.097500     4.380000  5880.000000    27.737500   \n",
       "max       1.000000    42.360000    30.420000  5965.000000    42.050000   \n",
       "\n",
       "                TT           SLP         SLP_        Precp        Class  \n",
       "count  2534.000000   2534.000000  2534.000000  2534.000000  2534.000000  \n",
       "mean     37.388335  10164.198442    -0.119949     0.372026     1.063141  \n",
       "std      10.949074     51.428116    34.693349     1.317438     0.243265  \n",
       "min     -10.100000   9975.000000  -135.000000     0.000000     1.000000  \n",
       "25%      33.200000  10130.000000   -20.000000     0.000000     1.000000  \n",
       "50%      40.500000  10160.000000    -0.119949     0.000000     1.000000  \n",
       "75%      44.950000  10190.000000    15.000000     0.050000     1.000000  \n",
       "max      59.150000  10350.000000   140.000000    20.650000     2.000000  \n",
       "\n",
       "[8 rows x 73 columns]"
      ]
     },
     "execution_count": 6,
     "metadata": {},
     "output_type": "execute_result"
    }
   ],
   "source": [
    "df.describe()"
   ]
  },
  {
   "cell_type": "code",
   "execution_count": 7,
   "metadata": {},
   "outputs": [
    {
     "data": {
      "image/png": "[encoded data removed]",
      "text/plain": [
       "<Figure size 1296x864 with 2 Axes>"
      ]
     },
     "metadata": {
      "needs_background": "light"
     },
     "output_type": "display_data"
    }
   ],
   "source": [
    "plt.figure(figsize=(18, 12))\n",
    "sns.heatmap(df.corr());"
   ]
  },
  {
   "cell_type": "code",
   "execution_count": 8,
   "metadata": {},
   "outputs": [
    {
     "data": {
      "text/plain": [
       "<matplotlib.axes._subplots.AxesSubplot at 0x2a3bdeadf60>"
      ]
     },
     "execution_count": 8,
     "metadata": {},
     "output_type": "execute_result"
    },
    {
     "data": {
      "image/png": "[encoded data removed]",
      "text/plain": [
       "<Figure size 432x288 with 1 Axes>"
      ]
     },
     "metadata": {
      "needs_background": "light"
     },
     "output_type": "display_data"
    }
   ],
   "source": [
    "#Skewed data check?\n",
    "sns.countplot(x=\"Class\", data=df)"
   ]
  },
  {
   "cell_type": "markdown",
   "metadata": {},
   "source": [
    "The dataset is skewed as number of normal days is overwhelmingly larger than ozone days as expected."
   ]
  },
  {
   "cell_type": "code",
   "execution_count": 9,
   "metadata": {},
   "outputs": [],
   "source": [
    "#split data into 2 dataframes for ease of comparison: ozone vs non - ozone day\n",
    "dfo = df[df['Class'] == 2]\n",
    "dfno = df[df['Class'] == 1]"
   ]
  },
  {
   "cell_type": "code",
   "execution_count": 10,
   "metadata": {},
   "outputs": [],
   "source": [
    "#function to make one or more boxplots for normalv vs ozone days\n",
    "import random\n",
    "colors = ['darkred','darkblue','darkgreen','darkcyan','purple']\n",
    "def pltboxplot(param):\n",
    "    df1 = dfo[[param]].assign(Class = 'Ozone')\n",
    "    df2 = dfno[[param]].assign(Class = 'Normal')\n",
    "    cdf = pd.concat([df1,df2])    \n",
    "    mdf = pd.melt(cdf, id_vars=['Class'], var_name=['Parameter'])\n",
    "    plt.figure(figsize=(8, 4))\n",
    "    ax = sns.boxplot(x=\"Class\", y=\"value\", hue=\"Parameter\", color = random.choice(colors),data=mdf)\n",
    "    ax.set_title(param)\n",
    "    plt.show()\n",
    "\n"
   ]
  },
  {
   "cell_type": "code",
   "execution_count": 11,
   "metadata": {},
   "outputs": [
    {
     "data": {
      "image/png": "[encoded data removed]",
      "text/plain": [
       "<Figure size 576x288 with 1 Axes>"
      ]
     },
     "metadata": {
      "needs_background": "light"
     },
     "output_type": "display_data"
    }
   ],
   "source": [
    "#Average Temperature boxplot\n",
    "pltboxplot('T_AV')"
   ]
  },
  {
   "cell_type": "code",
   "execution_count": 12,
   "metadata": {},
   "outputs": [
    {
     "data": {
      "image/png": "[encoded data removed]",
      "text/plain": [
       "<Figure size 576x288 with 1 Axes>"
      ]
     },
     "metadata": {
      "needs_background": "light"
     },
     "output_type": "display_data"
    }
   ],
   "source": [
    "#Average wind speed boxplot\n",
    "pltboxplot('WSR_AV')"
   ]
  },
  {
   "cell_type": "code",
   "execution_count": 13,
   "metadata": {},
   "outputs": [
    {
     "data": {
      "image/png": "[encoded data removed]",
      "text/plain": [
       "<Figure size 576x288 with 1 Axes>"
      ]
     },
     "metadata": {
      "needs_background": "light"
     },
     "output_type": "display_data"
    }
   ],
   "source": [
    "#K-index boxplot\n",
    "pltboxplot('KI')"
   ]
  },
  {
   "cell_type": "code",
   "execution_count": 14,
   "metadata": {},
   "outputs": [
    {
     "data": {
      "image/png": "[encoded data removed]",
      "text/plain": [
       "<Figure size 576x288 with 1 Axes>"
      ]
     },
     "metadata": {
      "needs_background": "light"
     },
     "output_type": "display_data"
    }
   ],
   "source": [
    "#T-index boxplot\n",
    "pltboxplot('TT')"
   ]
  },
  {
   "cell_type": "code",
   "execution_count": 15,
   "metadata": {},
   "outputs": [
    {
     "data": {
      "image/png": "[encoded data removed]",
      "text/plain": [
       "<Figure size 576x288 with 1 Axes>"
      ]
     },
     "metadata": {
      "needs_background": "light"
     },
     "output_type": "display_data"
    }
   ],
   "source": [
    "#T-index boxplot\n",
    "pltboxplot('SLP')"
   ]
  },
  {
   "cell_type": "code",
   "execution_count": null,
   "metadata": {},
   "outputs": [],
   "source": []
  }
 ],
 "metadata": {
  "kernelspec": {
   "display_name": "Python 3",
   "language": "python",
   "name": "python3"
  },
  "language_info": {
   "codemirror_mode": {
    "name": "ipython",
    "version": 3
   },
   "file_extension": ".py",
   "mimetype": "text/x-python",
   "name": "python",
   "nbconvert_exporter": "python",
   "pygments_lexer": "ipython3",
   "version": "3.7.1"
  }
 },
 "nbformat": 4,
 "nbformat_minor": 2
}
